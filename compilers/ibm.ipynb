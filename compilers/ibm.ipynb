{
 "cells": [
  {
   "cell_type": "code",
   "execution_count": 4,
   "metadata": {},
   "outputs": [],
   "source": [
    "from braket.aws import AwsDevice\n",
    "from braket.circuits import Circuit, gates, noises, observables\n",
    "from braket.devices import LocalSimulator\n",
    "from braket.parametric import FreeParameter\n",
    "import numpy as np\n",
    "from scipy.stats import unitary_group\n",
    "import math"
   ]
  },
  {
   "cell_type": "code",
   "execution_count": 5,
   "metadata": {},
   "outputs": [],
   "source": [
    "def qft_circuit(n):\n",
    "    circuit = Circuit()\n",
    "    \n",
    "    for i in range(0, n):\n",
    "        circuit.h(i)\n",
    "        for j in range(1, n - i):\n",
    "            circuit.cphaseshift(i+j,i,(2 * np.pi / math.pow(2,j)))\n",
    "\n",
    "    return circuit\n",
    "    "
   ]
  },
  {
   "cell_type": "code",
   "execution_count": 6,
   "metadata": {},
   "outputs": [
    {
     "name": "stdout",
     "output_type": "stream",
     "text": [
      "T  : |0|     1     |      2      |           3           |      4      |     5     |6|\n",
      "                                                                                      \n",
      "q0 : -H-PHASE(3.14)-PHASE(1.57)---PHASE(0.79)-----------------------------------------\n",
      "        |           |             |                                                   \n",
      "q1 : ---C-----------|-----------H-|-----------PHASE(3.14)-PHASE(1.57)-----------------\n",
      "                    |             |           |           |                           \n",
      "q2 : ---------------C-------------|-----------C-----------|-----------H-PHASE(3.14)---\n",
      "                                  |                       |             |             \n",
      "q3 : -----------------------------C-----------------------C-------------C-----------H-\n",
      "\n",
      "T  : |0|     1     |      2      |           3           |      4      |     5     |6|\n"
     ]
    }
   ],
   "source": [
    "qft = qft_circuit(4)\n",
    "\n",
    "print(qft)"
   ]
  },
  {
   "cell_type": "code",
   "execution_count": 7,
   "metadata": {},
   "outputs": [
    {
     "name": "stdout",
     "output_type": "stream",
     "text": [
      "Instruction('operator': H('qubit_count': 1), 'target': QubitSet([Qubit(0)]), 'control': QubitSet([]), 'control_state': (), 'power': 1)\n",
      "Instruction('operator': CPhaseShift('angle': 3.141592653589793, 'qubit_count': 2), 'target': QubitSet([Qubit(1), Qubit(0)]), 'control': QubitSet([]), 'control_state': (), 'power': 1)\n",
      "Instruction('operator': CPhaseShift('angle': 1.5707963267948966, 'qubit_count': 2), 'target': QubitSet([Qubit(2), Qubit(0)]), 'control': QubitSet([]), 'control_state': (), 'power': 1)\n",
      "Instruction('operator': CPhaseShift('angle': 0.7853981633974483, 'qubit_count': 2), 'target': QubitSet([Qubit(3), Qubit(0)]), 'control': QubitSet([]), 'control_state': (), 'power': 1)\n",
      "Instruction('operator': H('qubit_count': 1), 'target': QubitSet([Qubit(1)]), 'control': QubitSet([]), 'control_state': (), 'power': 1)\n",
      "Instruction('operator': CPhaseShift('angle': 3.141592653589793, 'qubit_count': 2), 'target': QubitSet([Qubit(2), Qubit(1)]), 'control': QubitSet([]), 'control_state': (), 'power': 1)\n",
      "Instruction('operator': CPhaseShift('angle': 1.5707963267948966, 'qubit_count': 2), 'target': QubitSet([Qubit(3), Qubit(1)]), 'control': QubitSet([]), 'control_state': (), 'power': 1)\n",
      "Instruction('operator': H('qubit_count': 1), 'target': QubitSet([Qubit(2)]), 'control': QubitSet([]), 'control_state': (), 'power': 1)\n",
      "Instruction('operator': CPhaseShift('angle': 3.141592653589793, 'qubit_count': 2), 'target': QubitSet([Qubit(3), Qubit(2)]), 'control': QubitSet([]), 'control_state': (), 'power': 1)\n",
      "Instruction('operator': H('qubit_count': 1), 'target': QubitSet([Qubit(3)]), 'control': QubitSet([]), 'control_state': (), 'power': 1)\n"
     ]
    }
   ],
   "source": [
    "for row in qft.instructions:\n",
    "    print(row)\n",
    "    "
   ]
  },
  {
   "cell_type": "code",
   "execution_count": 22,
   "metadata": {},
   "outputs": [],
   "source": [
    "def GreedyV(demand, vertex_fid):\n",
    "    assert len(vertex_fid) >= len(demand)\n",
    "\n",
    "    # Demand and Fidelities are both graphs\n",
    "\n",
    "    # Sort the vertices by demand\n",
    "    vertex_demands = [[i, sum(demand[i])] for i in range(0, len(demand))]\n",
    "    vertex_demands.sort(key = lambda x: -x[1])\n",
    "\n",
    "    # Sort the vertices by fidelity\n",
    "    vertex_fidelities = [[i, vertex_fid[i]] for i in range(0, len(vertex_fid))]\n",
    "    vertex_fidelities.sort(key = lambda x: -x[1])\n",
    "\n",
    "    # Map the ith largest demand to the ith largest fidelity\n",
    "    vertex_map = {}\n",
    "    for i in range(0, len(demand)):\n",
    "    \n",
    "        vertex_map[vertex_fidelities[i][0]] = vertex_demands[i][0]\n",
    "    \n",
    "    return vertex_map "
   ]
  },
  {
   "cell_type": "code",
   "execution_count": 24,
   "metadata": {},
   "outputs": [
    {
     "data": {
      "text/plain": [
       "[5, 3, 4, 2]"
      ]
     },
     "execution_count": 24,
     "metadata": {},
     "output_type": "execute_result"
    }
   ],
   "source": [
    "CNOT_usage = [\n",
    "    [0, 1, 1, 1],\n",
    "    [0, 0, 0, 0],\n",
    "    [0, 0, 1, 1],\n",
    "    [0, 0, 0, 0],\n",
    "]\n",
    "vertex_fidelity = [0.5, 0.6, 0.7, 0.8, 0.9, 1.0]\n",
    "\n",
    "GreedyV(CNOT_usage, vertex_fidelity)"
   ]
  },
  {
   "cell_type": "code",
   "execution_count": null,
   "metadata": {},
   "outputs": [],
   "source": []
  }
 ],
 "metadata": {
  "kernelspec": {
   "display_name": "iquhack",
   "language": "python",
   "name": "python3"
  },
  "language_info": {
   "codemirror_mode": {
    "name": "ipython",
    "version": 3
   },
   "file_extension": ".py",
   "mimetype": "text/x-python",
   "name": "python",
   "nbconvert_exporter": "python",
   "pygments_lexer": "ipython3",
   "version": "3.10.13"
  }
 },
 "nbformat": 4,
 "nbformat_minor": 2
}
