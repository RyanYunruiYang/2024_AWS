{
 "cells": [
  {
   "cell_type": "markdown",
   "metadata": {},
   "source": [
    "# Simulating noise on Amazon Braket"
   ]
  },
  {
   "cell_type": "code",
   "execution_count": 2,
   "metadata": {
    "ExecuteTime": {
     "end_time": "2023-08-29T21:52:57.387131Z",
     "start_time": "2023-08-29T21:52:56.735020Z"
    }
   },
   "outputs": [],
   "source": [
    "# Use Braket SDK Cost Tracking to estimate the cost to run this example\n",
    "from braket.tracking import Tracker\n",
    "t = Tracker().start()"
   ]
  },
  {
   "cell_type": "markdown",
   "metadata": {},
   "source": [
    "This notebook gives a detailed overview of noise simulations on Amazon Braket. Amazon Braket provides two noise simulators: a local noise simulator that you can use for free as part of the Braket SDK and an on-demand, high-performing noise simulator, DM1. Both simulators are based on the density matrix formalism. After this tutorial, you will be able to define noise channels, apply noise to new or existing circuits, and run those circuits on the Braket noise simulators. \n",
    "\n",
    "### Table of contents:\n",
    "* [Background](#Background)\n",
    "    * [Noise simulation based on the density matrix formalism](#density_matrix)\n",
    "    * [Quantum channel and Kraus representation](#quantum_channel)\n",
    "* [General imports](#imports)\n",
    "* [Quick start](#start)\n",
    "* [Defining noise channels](#noise_channels)\n",
    "    * [Pre-defined noise channels](#pre-defined)\n",
    "    * [Defining custom noise channels](#self-defined)\n",
    "* [Adding noise to a circuit](#apply_noise)\n",
    "    * [Build noisy circuits bottom-up](#apply_noise_directly)\n",
    "    * [Applying noise to existing circuits with global methods](#apply_noise_globally)\n",
    "        * [Applying gate noise to the circuit](#gate-noise)\n",
    "        * [Applying initialization noise to the circuit](#initialization-noise)\n",
    "        * [Applying readout noise to the circuit](#readout-noise)\n",
    "    * [Using both the direct and global methods to apply noise](#both)\n",
    "* [Running a noisy circuit](#run)"
   ]
  },
  {
   "cell_type": "markdown",
   "metadata": {},
   "source": [
    "## Background <a class=\"anchor\" id=\"Background\"></a>\n",
    "\n",
    "### Noise simulation based on the density matrix formalism <a class=\"anchor\" id=\"density_matrix\"></a>\n",
    "In an ideal case, a quantum state prepared by a noise-free circuit can be described by a state vector $|\\psi\\rangle$ -- we call it a 'pure state'. However, the presence of noise in realistic quantum devices will introduce classical uncertainty to the quantum state. For example, a bit flip error with 50% probability acting on a qubit flips the $|0\\rangle$ state into either $|0\\rangle$ or $|1\\rangle$ with a 50-50 chance. Note that this is different from an Hadamard-gate acting on $|0\\rangle$: The latter results in a coherent superposition of $|0\\rangle$ and $|1\\rangle$, whereas the former is a classical, so-called mixture of $|0\\rangle$ and $|1\\rangle$. The most general way of describing a quantum state in the presence of noise is through the so-called density matrix: $\\rho = \\sum_i p_i|\\psi_i\\rangle\\langle\\psi_i|$. It can be understood as a classical mixture of a series of pure states $|\\psi_i\\rangle$ (each of which could be highly entangled), where $p_i$ is the probability of the state being in $|\\psi_i\\rangle$. Because the $p_i$ are classical probabilities they have to sum up to 1: $\\sum_i p_i = 1$. The density matrix of a pure state is simply $\\rho = |\\psi\\rangle\\langle\\psi|$ and, in the bit-flip example from above, the density matrix would be $\\rho = 0.5|0\\rangle\\langle 0| + 0.5|1\\rangle\\langle 1|$. \n",
    "\n",
    "The density matrix formalism is a very useful way to describe a noisy system with probabilistic outcomes. It gives an exact description of a quantum system going through a quantum channel with noise. Besides, the expectation value of an observable $\\langle O\\rangle$ can be easily calculated by $\\rm{Tr}(O\\rho)$, where \"$\\rm{Tr}$\" is the trace operator. \n",
    "\n",
    "### Quantum channel and Kraus representation <a class=\"anchor\" id=\"quantum_channel\"></a>\n",
    "\n",
    "A [quantum channel](https://en.wikipedia.org/wiki/Quantum_channel) describes the time evolution of a quantum state which is expressed as a density matrix. For instance, to understand what a series of noisy gates does to the state of a quantum computer, you can apply a quantum channel corresponding to the different gate and noise operations. \n",
    "Mathematically speaking, a quantum channel is a completely positive and trace-preserving (CPTP) linear map acting on a density matrix. Completely positive means the channel maps positive operators into positive operators (even if the operator is applied to part of a larger system) to make sure the density matrix describes a proper quantum state after the map. Trace-preserving means the trace of the density matrix remains unchanged during the mapping process (this is so that after the map the classical probabilities $p_i$ still sum to 1). \n",
    "\n",
    "The so-called _Kraus representation_ is a commonly used representation for CPTP maps. [Kraus's theorem](https://en.wikipedia.org/wiki/Quantum_operation#Kraus_operators) states that any quantum operation acting on a quantum state $\\rho$ can be expressed as a map $\\varepsilon(\\rho) = \\sum_i K_i\\rho K_i^{\\dagger}$, and it satisfies: $\\sum_i K_i^{\\dagger}K_i = \\mathbb{1}$, where $\\mathbb{1}$ is the Identity operator.\n",
    "\n",
    "Let's get started and have a look how you can define and simulate noisy circuits on Amazon Braket."
   ]
  },
  {
   "cell_type": "markdown",
   "metadata": {},
   "source": [
    "## General imports <a class=\"anchor\" id=\"imports\"></a>"
   ]
  },
  {
   "cell_type": "markdown",
   "metadata": {},
   "source": [
    "Let's begin with the usual imports."
   ]
  },
  {
   "cell_type": "code",
   "execution_count": 3,
   "metadata": {
    "ExecuteTime": {
     "end_time": "2023-08-29T21:52:59.526319Z",
     "start_time": "2023-08-29T21:52:56.796594Z"
    }
   },
   "outputs": [],
   "source": [
    "from braket.aws import AwsDevice\n",
    "from braket.circuits import Circuit, gates, noises, observables\n",
    "from braket.devices import LocalSimulator\n",
    "from braket.parametric import FreeParameter\n",
    "import numpy as np\n",
    "from scipy.stats import unitary_group\n",
    "import math"
   ]
  },
  {
   "cell_type": "markdown",
   "metadata": {},
   "source": [
    "## Noise Simulator from AWS"
   ]
  },
  {
   "cell_type": "code",
   "execution_count": 27,
   "metadata": {
    "ExecuteTime": {
     "end_time": "2023-08-29T21:52:59.700559Z",
     "start_time": "2023-08-29T21:52:59.527368Z"
    }
   },
   "outputs": [
    {
     "name": "stdout",
     "output_type": "stream",
     "text": [
      "T  : |0|1|\n",
      "          \n",
      "q0 : -H-C-\n",
      "        | \n",
      "q1 : ---X-\n",
      "\n",
      "T  : |0|1|\n",
      "T  : |      0       |      1      |\n",
      "                                   \n",
      "q0 : -H-DEPO(0.0021)-C-DEPO(0.065)-\n",
      "                     | |           \n",
      "q1 : ----------------X-DEPO(0.065)-\n",
      "\n",
      "T  : |      0       |      1      |\n",
      "measurement results: Counter({'00': 490, '11': 484, '01': 14, '10': 12})\n"
     ]
    }
   ],
   "source": [
    "from braket.circuits.noise_model import (\n",
    "    GateCriteria,\n",
    "    NoiseModel,\n",
    "    ObservableCriteria,\n",
    ")\n",
    "from braket.circuits import Circuit, Observable, Gate\n",
    "from braket.circuits.noises import (\n",
    "    BitFlip,\n",
    "    Depolarizing,\n",
    "    TwoQubitDepolarizing,\n",
    ")\n",
    "from braket.devices import LocalSimulator\n",
    "import numpy as np\n",
    "import math\n",
    "\n",
    "def noise_model():\n",
    "    rng = np.random.default_rng()\n",
    "    m = NoiseModel()\n",
    "    \n",
    "    two_q_depo_mu = 1 - 0.9311\n",
    "    two_q_depo_sigma = 0.005\n",
    "    bf_mu = 1 - 0.99752\n",
    "    bf_sigma = 0.0015\n",
    "    one_q_depo_mu = 1 - 0.9981\n",
    "    one_q_depo_sigma = 0.00017\n",
    "    for qi in range(11):\n",
    "        z_bf_prob = bf_mu + bf_sigma * rng.standard_normal()\n",
    "        z_bf_prob = 0.0 if z_bf_prob < 0.0 else z_bf_prob\n",
    "        \n",
    "        bf_prob = bf_mu + bf_sigma * rng.standard_normal()\n",
    "        bf_prob = 0.0 if bf_prob < 0.0 else bf_prob\n",
    "        \n",
    "        one_q_depo_prob = one_q_depo_mu + one_q_depo_sigma * rng.standard_normal()\n",
    "        one_q_depo_prob = 0.0 if one_q_depo_prob < 0.0 else one_q_depo_prob\n",
    "        \n",
    "        m.add_noise(BitFlip(z_bf_prob), ObservableCriteria(observables=Observable.Z, qubits=qi))\n",
    "        #m.add_noise(BitFlip(bf_prob), ObservableCriteria(qubits=qi))\n",
    "        \n",
    "        m.add_noise(Depolarizing(one_q_depo_prob), GateCriteria(qubits=qi))\n",
    "        for qj in range(11):\n",
    "            if not qj == qi:\n",
    "                two_q_depo_prob = two_q_depo_mu + two_q_depo_sigma * rng.standard_normal()\n",
    "                two_q_depo_prob = 0.0 if two_q_depo_prob < 0.0 else two_q_depo_prob\n",
    "                \n",
    "                m.add_noise(TwoQubitDepolarizing(two_q_depo_prob), GateCriteria(gates=[Gate.CNot, Gate.Swap, Gate.CPhaseShift], qubits=[qi, qj]))\n",
    "    return m\n",
    "\n",
    "# build my circuit here\n",
    "c = Circuit().h(0).cnot(0,1)\n",
    "# SOME GATES GET APPLIED\n",
    "\n",
    "# examine the noiseless circuit \n",
    "print(c)\n",
    "\n",
    "# apply the noise model to the circuit \n",
    "nm = noise_model()\n",
    "c = nm.apply(c)\n",
    "\n",
    "# examine the noisy circuit \n",
    "print(c)\n",
    "\n",
    "# run the simulation!\n",
    "device = LocalSimulator('braket_dm')\n",
    "result = device.run(c, shots=1000).result()\n",
    "measurement = result.measurement_counts\n",
    "print('measurement results:', measurement)\n",
    "\n",
    "# # now improve the mapping based on the results!\n",
    "\n",
    "# # build a simple circuit\n",
    "# circ = Circuit().h(0).cnot(0,1)\n",
    "\n",
    "# # define a noise channel\n",
    "# noise = noises.BitFlip(probability=0.5)\n",
    "\n",
    "# # add noise to every gate in the circuit\n",
    "# circ.apply_gate_noise(noise)\n",
    "\n",
    "# # select the local noise simulator\n",
    "# device = LocalSimulator('braket_dm')\n",
    "\n",
    "# # run the circuit on the local simulator\n",
    "# task = device.run(circ, shots = 1000)\n",
    "\n",
    "# # visualize the results\n",
    "# result = task.result()\n",
    "# measurement = result.measurement_counts\n",
    "# print('measurement results:', measurement)"
   ]
  },
  {
   "cell_type": "markdown",
   "metadata": {},
   "source": [
    "## Trying random circuits"
   ]
  },
  {
   "cell_type": "code",
   "execution_count": 28,
   "metadata": {},
   "outputs": [],
   "source": [
    "nm = noise_model()"
   ]
  },
  {
   "cell_type": "code",
   "execution_count": 81,
   "metadata": {},
   "outputs": [
    {
     "name": "stdout",
     "output_type": "stream",
     "text": [
      "[[0, 0.961, 0.955, 0.961, 0.957, 0.956, 0.958, 0.953, 0.947, 0.948, 0.95], [0, 0, 0.948, 0.941, 0.948, 0.944, 0.954, 0.954, 0.951, 0.938, 0.948], [0, 0, 0, 0.961, 0.93, 0.951, 0.952, 0.945, 0.954, 0.941, 0.943], [0, 0, 0, 0, 0.947, 0.946, 0.943, 0.946, 0.948, 0.957, 0.954], [0, 0, 0, 0, 0, 0.942, 0.949, 0.954, 0.968, 0.961, 0.948], [0, 0, 0, 0, 0, 0, 0.951, 0.959, 0.95, 0.959, 0.962], [0, 0, 0, 0, 0, 0, 0, 0.951, 0.959, 0.953, 0.956], [0, 0, 0, 0, 0, 0, 0, 0, 0.946, 0.953, 0.953], [0, 0, 0, 0, 0, 0, 0, 0, 0, 0.947, 0.946], [0, 0, 0, 0, 0, 0, 0, 0, 0, 0, 0.948], [0, 0, 0, 0, 0, 0, 0, 0, 0, 0, 0]]\n"
     ]
    }
   ],
   "source": [
    "cnot_fidelities = [[0 for j in range(11)] for i in range(11)]\n",
    "\n",
    "for i in range(0,10):\n",
    "    for j in range(i+1,11):\n",
    "        c = Circuit()\n",
    "        for k in range(0,11):\n",
    "            c.i(k)\n",
    "\n",
    "        # build my circuit here\n",
    "        c.h(i)\n",
    "        c.cnot(i,j)\n",
    "        # SOME GATES GET APPLIED\n",
    "\n",
    "        # examine the noiseless circuit \n",
    "        # print(c)\n",
    "\n",
    "        # apply the noise model to the circuit \n",
    "        \n",
    "        c = nm.apply(c)\n",
    "\n",
    "        # examine the noisy circuit \n",
    "        #print(c)\n",
    "\n",
    "        # run the simulation!\n",
    "        device = LocalSimulator('braket_dm')\n",
    "        result = device.run(c, shots=1000).result()\n",
    "        measurement = result.measurement_counts\n",
    "        \n",
    "        def getString(i,j):\n",
    "            base = '00000000000'\n",
    "            return base[0:i] + '1' + base[i+1:j]+'1'+base[j+1:]\n",
    "        \n",
    "        fidelity = (measurement['00000000000'] + measurement[getString(i,j)])/1000\n",
    "        cnot_fidelities[i][j] = fidelity\n",
    "        \n",
    "        #print('measurement results for ' + str(i) + ',' + str(j) + ':' + str(fidelity) + '  details: ')\n",
    "        \n",
    "for row in fidelities:\n",
    "    print(row)"
   ]
  },
  {
   "cell_type": "code",
   "execution_count": 82,
   "metadata": {},
   "outputs": [
    {
     "name": "stdout",
     "output_type": "stream",
     "text": [
      "[0, 0.961, 0.955, 0.961, 0.957, 0.956, 0.958, 0.953, 0.947, 0.948, 0.95]\n",
      "[0, 0, 0.948, 0.941, 0.948, 0.944, 0.954, 0.954, 0.951, 0.938, 0.948]\n",
      "[0, 0, 0, 0.961, 0.93, 0.951, 0.952, 0.945, 0.954, 0.941, 0.943]\n",
      "[0, 0, 0, 0, 0.947, 0.946, 0.943, 0.946, 0.948, 0.957, 0.954]\n",
      "[0, 0, 0, 0, 0, 0.942, 0.949, 0.954, 0.968, 0.961, 0.948]\n",
      "[0, 0, 0, 0, 0, 0, 0.951, 0.959, 0.95, 0.959, 0.962]\n",
      "[0, 0, 0, 0, 0, 0, 0, 0.951, 0.959, 0.953, 0.956]\n",
      "[0, 0, 0, 0, 0, 0, 0, 0, 0.946, 0.953, 0.953]\n",
      "[0, 0, 0, 0, 0, 0, 0, 0, 0, 0.947, 0.946]\n",
      "[0, 0, 0, 0, 0, 0, 0, 0, 0, 0, 0.948]\n",
      "[0, 0, 0, 0, 0, 0, 0, 0, 0, 0, 0]\n"
     ]
    }
   ],
   "source": [
    "for row in fidelities:\n",
    "    print(row)"
   ]
  },
  {
   "cell_type": "code",
   "execution_count": 86,
   "metadata": {},
   "outputs": [],
   "source": [
    "swap_fidelities = [[0 for j in range(11)] for i in range(11)]\n",
    "\n",
    "for i in range(0,10):\n",
    "    for j in range(i+1,11):\n",
    "        c = Circuit()\n",
    "        for k in range(0,11):\n",
    "            c.i(k)\n",
    "\n",
    "        # build my circuit here\n",
    "        c.h(i)\n",
    "        c.swap(i,j)\n",
    "        # SOME GATES GET APPLIED\n",
    "\n",
    "        # examine the noiseless circuit \n",
    "        # print(c)\n",
    "\n",
    "        # apply the noise model to the circuit \n",
    "        \n",
    "        c = nm.apply(c)\n",
    "\n",
    "        # examine the noisy circuit \n",
    "        #print(c)\n",
    "\n",
    "        # run the simulation!\n",
    "        device = LocalSimulator('braket_dm')\n",
    "        result = device.run(c, shots=1000).result()\n",
    "        measurement = result.measurement_counts\n",
    "        \n",
    "        def getString(i,j):\n",
    "            base = '00000000000'\n",
    "            return base[0:j]+'1'+base[j+1:]\n",
    "        \n",
    "        fidelity = (measurement['00000000000'] + measurement[getString(i,j)])/1000\n",
    "        swap_fidelities[i][j] = fidelity"
   ]
  },
  {
   "cell_type": "code",
   "execution_count": 87,
   "metadata": {},
   "outputs": [
    {
     "name": "stdout",
     "output_type": "stream",
     "text": [
      "[0, 0.958, 0.952, 0.956, 0.959, 0.955, 0.945, 0.961, 0.955, 0.962, 0.939]\n",
      "[0, 0, 0.948, 0.945, 0.943, 0.948, 0.947, 0.958, 0.947, 0.957, 0.942]\n",
      "[0, 0, 0, 0.957, 0.938, 0.946, 0.948, 0.943, 0.95, 0.957, 0.959]\n",
      "[0, 0, 0, 0, 0.954, 0.948, 0.954, 0.958, 0.947, 0.956, 0.956]\n",
      "[0, 0, 0, 0, 0, 0.943, 0.937, 0.938, 0.95, 0.945, 0.93]\n",
      "[0, 0, 0, 0, 0, 0, 0.949, 0.946, 0.946, 0.943, 0.951]\n",
      "[0, 0, 0, 0, 0, 0, 0, 0.942, 0.965, 0.957, 0.95]\n",
      "[0, 0, 0, 0, 0, 0, 0, 0, 0.941, 0.949, 0.961]\n",
      "[0, 0, 0, 0, 0, 0, 0, 0, 0, 0.95, 0.94]\n",
      "[0, 0, 0, 0, 0, 0, 0, 0, 0, 0, 0.945]\n",
      "[0, 0, 0, 0, 0, 0, 0, 0, 0, 0, 0]\n"
     ]
    }
   ],
   "source": [
    "for row in swap_fidelities:\n",
    "    print(row)"
   ]
  },
  {
   "cell_type": "code",
   "execution_count": 5,
   "metadata": {},
   "outputs": [],
   "source": [
    "def qft_circuit(n):\n",
    "    circuit = Circuit()\n",
    "    \n",
    "    for i in range(0, n):\n",
    "        circuit.h(i)\n",
    "        for j in range(1, n - i):\n",
    "            circuit.cphaseshift(i+j,i,(2 * np.pi / math.pow(2,j)))\n",
    "\n",
    "    return circuit\n",
    "    "
   ]
  },
  {
   "cell_type": "code",
   "execution_count": 6,
   "metadata": {},
   "outputs": [
    {
     "name": "stdout",
     "output_type": "stream",
     "text": [
      "T  : |0|     1     |      2      |           3           |      4      |     5     |6|\n",
      "                                                                                      \n",
      "q0 : -H-PHASE(3.14)-PHASE(1.57)---PHASE(0.79)-----------------------------------------\n",
      "        |           |             |                                                   \n",
      "q1 : ---C-----------|-----------H-|-----------PHASE(3.14)-PHASE(1.57)-----------------\n",
      "                    |             |           |           |                           \n",
      "q2 : ---------------C-------------|-----------C-----------|-----------H-PHASE(3.14)---\n",
      "                                  |                       |             |             \n",
      "q3 : -----------------------------C-----------------------C-------------C-----------H-\n",
      "\n",
      "T  : |0|     1     |      2      |           3           |      4      |     5     |6|\n"
     ]
    }
   ],
   "source": [
    "qft = qft_circuit(4)\n",
    "\n",
    "print(qft)\n"
   ]
  },
  {
   "cell_type": "code",
   "execution_count": 8,
   "metadata": {},
   "outputs": [
    {
     "name": "stdout",
     "output_type": "stream",
     "text": [
      "Instruction('operator': H('qubit_count': 1), 'target': QubitSet([Qubit(0)]), 'control': QubitSet([]), 'control_state': (), 'power': 1)\n",
      "Instruction('operator': CPhaseShift('angle': 3.141592653589793, 'qubit_count': 2), 'target': QubitSet([Qubit(1), Qubit(0)]), 'control': QubitSet([]), 'control_state': (), 'power': 1)\n",
      "Instruction('operator': CPhaseShift('angle': 1.5707963267948966, 'qubit_count': 2), 'target': QubitSet([Qubit(2), Qubit(0)]), 'control': QubitSet([]), 'control_state': (), 'power': 1)\n",
      "Instruction('operator': CPhaseShift('angle': 0.7853981633974483, 'qubit_count': 2), 'target': QubitSet([Qubit(3), Qubit(0)]), 'control': QubitSet([]), 'control_state': (), 'power': 1)\n",
      "Instruction('operator': H('qubit_count': 1), 'target': QubitSet([Qubit(1)]), 'control': QubitSet([]), 'control_state': (), 'power': 1)\n",
      "Instruction('operator': CPhaseShift('angle': 3.141592653589793, 'qubit_count': 2), 'target': QubitSet([Qubit(2), Qubit(1)]), 'control': QubitSet([]), 'control_state': (), 'power': 1)\n",
      "Instruction('operator': CPhaseShift('angle': 1.5707963267948966, 'qubit_count': 2), 'target': QubitSet([Qubit(3), Qubit(1)]), 'control': QubitSet([]), 'control_state': (), 'power': 1)\n",
      "Instruction('operator': H('qubit_count': 1), 'target': QubitSet([Qubit(2)]), 'control': QubitSet([]), 'control_state': (), 'power': 1)\n",
      "Instruction('operator': CPhaseShift('angle': 3.141592653589793, 'qubit_count': 2), 'target': QubitSet([Qubit(3), Qubit(2)]), 'control': QubitSet([]), 'control_state': (), 'power': 1)\n",
      "Instruction('operator': H('qubit_count': 1), 'target': QubitSet([Qubit(3)]), 'control': QubitSet([]), 'control_state': (), 'power': 1)\n"
     ]
    }
   ],
   "source": [
    "for row in qft.instructions:\n",
    "    print(row)\n",
    "    "
   ]
  },
  {
   "cell_type": "code",
   "execution_count": 4,
   "metadata": {},
   "outputs": [
    {
     "name": "stdout",
     "output_type": "stream",
     "text": [
      "Instruction('operator': H('qubit_count': 1), 'target': QubitSet([Qubit(0)]), 'control': QubitSet([]), 'control_state': (), 'power': 1)\n",
      "Instruction('operator': H('qubit_count': 1), 'target': QubitSet([Qubit(0)]), 'control': QubitSet([]), 'control_state': (), 'power': 1)\n",
      "Instruction('operator': H('qubit_count': 1), 'target': QubitSet([Qubit(0)]), 'control': QubitSet([]), 'control_state': (), 'power': 1)\n",
      "Instruction('operator': X('qubit_count': 1), 'target': QubitSet([Qubit(1)]), 'control': QubitSet([]), 'control_state': (), 'power': 1)\n",
      "Instruction('operator': H('qubit_count': 1), 'target': QubitSet([Qubit(1)]), 'control': QubitSet([]), 'control_state': (), 'power': 1)\n",
      "Instruction('operator': X('qubit_count': 1), 'target': QubitSet([Qubit(1)]), 'control': QubitSet([]), 'control_state': (), 'power': 1)\n",
      "Instruction('operator': Y('qubit_count': 1), 'target': QubitSet([Qubit(2)]), 'control': QubitSet([]), 'control_state': (), 'power': 1)\n",
      "Instruction('operator': Y('qubit_count': 1), 'target': QubitSet([Qubit(2)]), 'control': QubitSet([]), 'control_state': (), 'power': 1)\n",
      "Instruction('operator': Z('qubit_count': 1), 'target': QubitSet([Qubit(3)]), 'control': QubitSet([]), 'control_state': (), 'power': 1)\n"
     ]
    }
   ],
   "source": [
    "def repeat_h():\n",
    "    circuit= Circuit()\n",
    "    \n",
    "    circuit.h(0)\n",
    "    circuit.h(0)\n",
    "    circuit.h(0)\n",
    "    circuit.x(1)\n",
    "    circuit.h(1)\n",
    "    circuit.x(1)\n",
    "    circuit.y(2)\n",
    "    circuit.y(2)\n",
    "    circuit.z(3)\n",
    "    \n",
    "    return circuit\n",
    "\n",
    "for row in repeat_h().instructions:\n",
    "    print(row)"
   ]
  },
  {
   "cell_type": "code",
   "execution_count": 16,
   "metadata": {},
   "outputs": [
    {
     "name": "stdout",
     "output_type": "stream",
     "text": [
      "[Instruction('operator': H('qubit_count': 1), 'target': QubitSet([Qubit(0)]), 'control': QubitSet([]), 'control_state': (), 'power': 1), Instruction('operator': H('qubit_count': 1), 'target': QubitSet([Qubit(0)]), 'control': QubitSet([]), 'control_state': (), 'power': 1), Instruction('operator': H('qubit_count': 1), 'target': QubitSet([Qubit(0)]), 'control': QubitSet([]), 'control_state': (), 'power': 1), Instruction('operator': X('qubit_count': 1), 'target': QubitSet([Qubit(1)]), 'control': QubitSet([]), 'control_state': (), 'power': 1), Instruction('operator': H('qubit_count': 1), 'target': QubitSet([Qubit(1)]), 'control': QubitSet([]), 'control_state': (), 'power': 1), Instruction('operator': X('qubit_count': 1), 'target': QubitSet([Qubit(1)]), 'control': QubitSet([]), 'control_state': (), 'power': 1), Instruction('operator': Y('qubit_count': 1), 'target': QubitSet([Qubit(2)]), 'control': QubitSet([]), 'control_state': (), 'power': 1), Instruction('operator': Y('qubit_count': 1), 'target': QubitSet([Qubit(2)]), 'control': QubitSet([]), 'control_state': (), 'power': 1), Instruction('operator': Z('qubit_count': 1), 'target': QubitSet([Qubit(3)]), 'control': QubitSet([]), 'control_state': (), 'power': 1)]\n"
     ]
    }
   ],
   "source": [
    "print(repeat_h().instructions)"
   ]
  },
  {
   "cell_type": "code",
   "execution_count": 19,
   "metadata": {},
   "outputs": [
    {
     "name": "stdout",
     "output_type": "stream",
     "text": [
      "Instruction('operator': H('qubit_count': 1), 'target': QubitSet([Qubit(0)]), 'control': QubitSet([]), 'control_state': (), 'power': 1)\n"
     ]
    }
   ],
   "source": [
    "print(repeat_h().instructions[0])"
   ]
  },
  {
   "cell_type": "code",
   "execution_count": 6,
   "metadata": {},
   "outputs": [],
   "source": [
    "def convert_instructions(instructions, n):\n",
    "    # Find the maximum qubit index to determine the size of the output array\n",
    "    max_qubit_index = n\n",
    "    # Initialize the output array with empty lists for each qubit\n",
    "    qubit_operations = [[] for _ in range(max_qubit_index)]\n",
    "    # Iterate through instructions and append operations to the corresponding qubit\n",
    "    for i in range(0, len(instructions)):\n",
    "        inst = instructions[i]\n",
    "        if(len(inst.target) > 1):\n",
    "            qubit_operations[inst.target[0]].append({'operator': inst.operator.name, 'time' : i, 'first': True })\n",
    "            qubit_operations[inst.target[1]].append({'operator': inst.operator.name, 'time' : i, 'first': False})\n",
    "        else:\n",
    "            qubit_operations[inst.target[0]].append({'operator': inst.operator.name, 'time': i})\n",
    "                \n",
    "        # Additional processing for control-target operations could be added here if necessary\n",
    "    return qubit_operations"
   ]
  },
  {
   "cell_type": "code",
   "execution_count": 7,
   "metadata": {},
   "outputs": [
    {
     "name": "stdout",
     "output_type": "stream",
     "text": [
      "[[{'operator': 'H', 'time': 0}, {'operator': 'H', 'time': 1}, {'operator': 'H', 'time': 2}], [{'operator': 'X', 'time': 3}, {'operator': 'H', 'time': 4}, {'operator': 'X', 'time': 5}], [{'operator': 'Y', 'time': 6}, {'operator': 'Y', 'time': 7}], [{'operator': 'Z', 'time': 8}]]\n"
     ]
    }
   ],
   "source": [
    "repeat_instruct_arr = convert_instructions(repeat_h().instructions,4)\n",
    "print(repeat_instruct_arr)"
   ]
  },
  {
   "cell_type": "code",
   "execution_count": 54,
   "metadata": {},
   "outputs": [
    {
     "name": "stdout",
     "output_type": "stream",
     "text": [
      "[[{'operator': 'H', 'time': 0}, {'operator': 'CPhaseShift', 'time': 1, 'first': False}, {'operator': 'CPhaseShift', 'time': 2, 'first': False}, {'operator': 'CPhaseShift', 'time': 3, 'first': False}], [{'operator': 'CPhaseShift', 'time': 1, 'first': True}, {'operator': 'H', 'time': 4}, {'operator': 'CPhaseShift', 'time': 5, 'first': False}, {'operator': 'CPhaseShift', 'time': 6, 'first': False}], [{'operator': 'CPhaseShift', 'time': 2, 'first': True}, {'operator': 'CPhaseShift', 'time': 5, 'first': True}, {'operator': 'H', 'time': 7}, {'operator': 'CPhaseShift', 'time': 8, 'first': False}], [{'operator': 'CPhaseShift', 'time': 3, 'first': True}, {'operator': 'CPhaseShift', 'time': 6, 'first': True}, {'operator': 'CPhaseShift', 'time': 8, 'first': True}, {'operator': 'H', 'time': 9}]]\n"
     ]
    }
   ],
   "source": [
    "print(convert_instructions(qft_circuit(4).instructions,4))"
   ]
  },
  {
   "cell_type": "code",
   "execution_count": 130,
   "metadata": {},
   "outputs": [],
   "source": [
    "def gate_cancellation(instruct_arr):\n",
    "    for gateLine in instruct_arr:\n",
    "        i = 1\n",
    "        while(i < len(gateLine)):\n",
    "            print(gateLine[i])\n",
    "            a = gateLine[i]['operator']\n",
    "            b = gateLine[i-1]['operator']\n",
    "            if(a == b and (a == 'H' or a == 'X' or a == 'Y' or a == 'Z')):\n",
    "                del gateLine[i]\n",
    "                del gateLine[i-1]\n",
    "            i += 1\n",
    "            "
   ]
  },
  {
   "cell_type": "code",
   "execution_count": 9,
   "metadata": {},
   "outputs": [
    {
     "name": "stdout",
     "output_type": "stream",
     "text": [
      "[{'operator': 'H', 'time': 0}, {'operator': 'H', 'time': 1}, {'operator': 'H', 'time': 2}]\n",
      "{'operator': 'H', 'time': 1}\n",
      "[{'operator': 'X', 'time': 3}, {'operator': 'H', 'time': 4}, {'operator': 'X', 'time': 5}]\n",
      "{'operator': 'H', 'time': 4}\n",
      "{'operator': 'X', 'time': 5}\n",
      "[{'operator': 'Y', 'time': 6}, {'operator': 'Y', 'time': 7}]\n",
      "{'operator': 'Y', 'time': 7}\n",
      "[{'operator': 'Z', 'time': 8}]\n",
      "[[{'operator': 'H', 'time': 2}], [{'operator': 'X', 'time': 3}, {'operator': 'H', 'time': 4}, {'operator': 'X', 'time': 5}], [], [{'operator': 'Z', 'time': 8}]]\n"
     ]
    }
   ],
   "source": [
    "gate_cancellation(repeat_instruct_arr)\n",
    "print(repeat_instruct_arr)"
   ]
  },
  {
   "cell_type": "code",
   "execution_count": 133,
   "metadata": {},
   "outputs": [],
   "source": [
    "def convert_instructions(instructions, n):\n",
    "    \"\"\"\n",
    "    converts the braket base instructions file into a form that is easier to work with\n",
    "    \"\"\"\n",
    "    \n",
    "    max_qubit_index = n\n",
    "    qubit_operations = [[] for _ in range(max_qubit_index)]\n",
    "    \n",
    "    for i in range(0, len(instructions)):\n",
    "        inst = instructions[i]\n",
    "        if(len(inst.target) > 1):\n",
    "            qubit_operations[inst.target[0]].append({'operator': inst.operator.name, 'time' : i, 'first': True })\n",
    "            qubit_operations[inst.target[1]].append({'operator': inst.operator.name, 'time' : i, 'first': False})\n",
    "        else:\n",
    "            qubit_operations[inst.target[0]].append({'operator': inst.operator.name, 'time': i})\n",
    "                \n",
    "    return qubit_operations\n",
    "\n",
    "def gate_cancellation(instruct_arr):\n",
    "    \"\"\"\n",
    "    Goes through truncated form of circuit and removes operators which square to the identity.\n",
    "    \"\"\"\n",
    "    for gateLine in instruct_arr:\n",
    "        i = 1\n",
    "        while(i < len(gateLine)):\n",
    "            print(gateLine[i])\n",
    "            a = gateLine[i]['operator']\n",
    "            b = gateLine[i-1]['operator']\n",
    "            if(a == b and (a == 'H' or a == 'X' or a == 'Y' or a == 'Z')):\n",
    "                del gateLine[i]\n",
    "                del gateLine[i-1]\n",
    "            i += 1\n",
    "            \n",
    "\n",
    "def gate_cancelled_circuit(circuit,n):\n",
    "    \"\"\"\n",
    "    Takes in the circuit and then removes any duplicate graphs.\n",
    "    * Put in the parameter of number of total qubits along with the circuit\n",
    "    \"\"\"\n",
    "    \n",
    "    instructs = convert_instructions(circuit.instructions,n)\n",
    "    gate_cancellation(instructs)\n",
    "    \n",
    "    new_circuit = Circuit()\n",
    "    \n",
    "    for i in range(0, n):\n",
    "        circuit.i(i)\n",
    "    \n",
    "    print(circuit.instructions)\n",
    "    \n",
    "    for i in range(len(circuit.instructions)):\n",
    "        row = circuit.instructions[i]\n",
    "\n",
    "        op_name = row.operator.name\n",
    "        \n",
    "        target = row.target\n",
    "        \n",
    "        if(len(instructs[target[0]]) == 0 or instructs[target[0]][0]['time'] != i):\n",
    "            continue\n",
    "\n",
    "        if op_name == \"H\":\n",
    "            new_circuit.h(target)\n",
    "        elif op_name == \"I\":\n",
    "            new_circuit.i(target)\n",
    "        elif op_name == \"X\":\n",
    "            new_circuit.x(target)\n",
    "        elif op_name == \"Y\":\n",
    "            new_circuit.y(target)\n",
    "        elif op_name == \"Z\":\n",
    "            new_circuit.z(target)\n",
    "        elif op_name == \"S\":\n",
    "            new_circuit.s(target)\n",
    "        elif op_name == \"Si\":\n",
    "            new_circuit.si(target)\n",
    "        elif op_name == \"T\":\n",
    "            new_circuit.t(target)\n",
    "        elif op_name == \"Ti\":\n",
    "            new_circuit.ti(target)\n",
    "        elif op_name == \"V\":\n",
    "            new_circuit.v(target)\n",
    "        elif op_name == \"V\":\n",
    "            new_circuit.vi(target)\n",
    "        elif op_name == \"Rx\":\n",
    "            new_circuit.rx(target, -row.operator.anglegle)\n",
    "        elif op_name == \"Ry\":\n",
    "            new_circuit.ry(target, -row.operator.angle)\n",
    "        elif op_name == \"Rz\":\n",
    "            new_circuit.rz(target, -row.operator.angle)\n",
    "        elif op_name == \"PhaseShift\":\n",
    "            new_circuit.phaseshift(target, -row.operator.angle)\n",
    "        elif op_name == \"CNot\":\n",
    "            new_circuit.cnot(*target)\n",
    "        elif op_name == \"Swap\":\n",
    "            new_circuit.swap(*target)\n",
    "        elif op_name == \"ISwap\":\n",
    "            new_circuit.iswap(*target, -np.pi / 2)\n",
    "        elif op_name == \"PSwap\":\n",
    "            new_circuit.pswap(*target, -row.operator.angle)\n",
    "        elif op_name == \"XY\":\n",
    "            new_circuit.xy(*target, -row.operator.angle)\n",
    "        elif op_name == \"CPhaseShift\":\n",
    "            new_circuit.cphaseshift(*target, -row.operator.angle)\n",
    "        elif op_name == \"CPhaseShift00\":\n",
    "            new_circuit.cphaseshift00(*target, -row.operator.angle)\n",
    "        elif op_name == \"CPhaseShift01\":\n",
    "            new_circuit.cphaseshift01(*target, -row.operator.angle)\n",
    "        elif op_name == \"CPhaseShift10\":\n",
    "            new_circuit.cphaseshift10(*target, -row.operator.angle)\n",
    "        elif op_name == \"CY\":\n",
    "            new_circuit.cy(*target)\n",
    "        elif op_name == \"CZ\":\n",
    "            new_circuit.cz(*target)\n",
    "        elif op_name == \"XX\":\n",
    "            new_circuit.xx(*target, -row.operator.angle)\n",
    "        elif op_name == \"YY\":\n",
    "            new_circuit.yy(*target, -row.operator.angle)\n",
    "        elif op_name == \"ZZ\":\n",
    "            new_circuit.zz(*target, -row.operator.angle)\n",
    "        elif op_name == \"CCNot\":\n",
    "            new_circuit.ccnot(*target)\n",
    "        elif op_name == \"CSwap\":\n",
    "            new_circuit.cswap(*target)\n",
    "            \n",
    "        del instructs[target[0]][0]           \n",
    "    return new_circuit\n",
    "        \n"
   ]
  },
  {
   "cell_type": "code",
   "execution_count": 135,
   "metadata": {},
   "outputs": [
    {
     "name": "stdout",
     "output_type": "stream",
     "text": [
      "T  : |0|1|2|\n",
      "            \n",
      "q0 : -H-H-H-\n",
      "            \n",
      "q1 : -X-H-X-\n",
      "            \n",
      "q2 : -Y-Y---\n",
      "            \n",
      "q3 : -Z-----\n",
      "\n",
      "T  : |0|1|2|\n",
      "{'operator': 'H', 'time': 1}\n",
      "{'operator': 'H', 'time': 4}\n",
      "{'operator': 'X', 'time': 5}\n",
      "{'operator': 'Y', 'time': 7}\n",
      "[Instruction('operator': H('qubit_count': 1), 'target': QubitSet([Qubit(0)]), 'control': QubitSet([]), 'control_state': (), 'power': 1), Instruction('operator': H('qubit_count': 1), 'target': QubitSet([Qubit(0)]), 'control': QubitSet([]), 'control_state': (), 'power': 1), Instruction('operator': H('qubit_count': 1), 'target': QubitSet([Qubit(0)]), 'control': QubitSet([]), 'control_state': (), 'power': 1), Instruction('operator': X('qubit_count': 1), 'target': QubitSet([Qubit(1)]), 'control': QubitSet([]), 'control_state': (), 'power': 1), Instruction('operator': H('qubit_count': 1), 'target': QubitSet([Qubit(1)]), 'control': QubitSet([]), 'control_state': (), 'power': 1), Instruction('operator': X('qubit_count': 1), 'target': QubitSet([Qubit(1)]), 'control': QubitSet([]), 'control_state': (), 'power': 1), Instruction('operator': Y('qubit_count': 1), 'target': QubitSet([Qubit(2)]), 'control': QubitSet([]), 'control_state': (), 'power': 1), Instruction('operator': Y('qubit_count': 1), 'target': QubitSet([Qubit(2)]), 'control': QubitSet([]), 'control_state': (), 'power': 1), Instruction('operator': Z('qubit_count': 1), 'target': QubitSet([Qubit(3)]), 'control': QubitSet([]), 'control_state': (), 'power': 1), Instruction('operator': I('qubit_count': 1), 'target': QubitSet([Qubit(0)]), 'control': QubitSet([]), 'control_state': (), 'power': 1), Instruction('operator': I('qubit_count': 1), 'target': QubitSet([Qubit(1)]), 'control': QubitSet([]), 'control_state': (), 'power': 1), Instruction('operator': I('qubit_count': 1), 'target': QubitSet([Qubit(2)]), 'control': QubitSet([]), 'control_state': (), 'power': 1), Instruction('operator': I('qubit_count': 1), 'target': QubitSet([Qubit(3)]), 'control': QubitSet([]), 'control_state': (), 'power': 1)]\n",
      "T  : |0|1|2|\n",
      "            \n",
      "q0 : -H-----\n",
      "            \n",
      "q1 : -X-H-X-\n",
      "            \n",
      "q3 : -Z-----\n",
      "\n",
      "T  : |0|1|2|\n"
     ]
    }
   ],
   "source": [
    "bruh = repeat_h()\n",
    "\n",
    "print(bruh)\n",
    "new = gate_cancelled_circuit(bruh,4)\n",
    "print(new)"
   ]
  },
  {
   "cell_type": "code",
   "execution_count": 83,
   "metadata": {},
   "outputs": [
    {
     "name": "stdout",
     "output_type": "stream",
     "text": [
      "T  : |0|1|\n",
      "          \n",
      "q0 : -H-C-\n",
      "        | \n",
      "q1 : ---X-\n",
      "\n",
      "T  : |0|1|\n"
     ]
    }
   ],
   "source": [
    "rand_circuit = Circuit()\n",
    "rand_circuit.h(0)\n",
    "rand_circuit.cnot(0,1)\n",
    "\n",
    "print(rand_circuit)"
   ]
  },
  {
   "cell_type": "code",
   "execution_count": null,
   "metadata": {},
   "outputs": [],
   "source": []
  },
  {
   "cell_type": "code",
   "execution_count": 84,
   "metadata": {},
   "outputs": [
    {
     "name": "stdout",
     "output_type": "stream",
     "text": [
      "[[{'operator': 'H', 'time': 0}, {'operator': 'CNot', 'time': 1, 'first': True}], [{'operator': 'CNot', 'time': 1, 'first': False}]]\n",
      "[Instruction('operator': H('qubit_count': 1), 'target': QubitSet([Qubit(0)]), 'control': QubitSet([]), 'control_state': (), 'power': 1), Instruction('operator': CNot('qubit_count': 2), 'target': QubitSet([Qubit(0), Qubit(1)]), 'control': QubitSet([]), 'control_state': (), 'power': 1)]\n"
     ]
    }
   ],
   "source": [
    "base_instructs = convert_instructions(rand_circuit.instructions,2)\n",
    "\n",
    "print(base_instructs)\n",
    "print(rand_circuit.instructions)"
   ]
  },
  {
   "cell_type": "code",
   "execution_count": null,
   "metadata": {},
   "outputs": [],
   "source": []
  },
  {
   "cell_type": "markdown",
   "metadata": {},
   "source": [
    "## Testing the sequential"
   ]
  },
  {
   "cell_type": "code",
   "execution_count": 115,
   "metadata": {},
   "outputs": [
    {
     "name": "stdout",
     "output_type": "stream",
     "text": [
      "Counter({'000': 472, '111': 440, '011': 29, '100': 27, '001': 9, '110': 9, '010': 8, '101': 6})\n"
     ]
    }
   ],
   "source": [
    "c = Circuit()\n",
    "\n",
    "c.h(0)\n",
    "c.cnot(0,1)\n",
    "c.cnot(1,2)\n",
    "\n",
    "c = nm.apply(c)\n",
    "\n",
    "device = LocalSimulator('braket_dm')\n",
    "result = device.run(c, shots=1000).result()\n",
    "measurement = result.measurement_counts\n",
    "\n",
    "print(measurement)"
   ]
  },
  {
   "cell_type": "markdown",
   "metadata": {},
   "source": [
    "## Testing Total Fidelity?"
   ]
  },
  {
   "cell_type": "code",
   "execution_count": 17,
   "metadata": {},
   "outputs": [],
   "source": [
    "import sys\n",
    "sys.path.insert(0, './circuits')  # Adjust the path if necessary."
   ]
  },
  {
   "cell_type": "code",
   "execution_count": 18,
   "metadata": {},
   "outputs": [
    {
     "ename": "ModuleNotFoundError",
     "evalue": "No module named 'circuits'",
     "output_type": "error",
     "traceback": [
      "\u001b[0;31m---------------------------------------------------------------------------\u001b[0m",
      "\u001b[0;31mModuleNotFoundError\u001b[0m                       Traceback (most recent call last)",
      "Cell \u001b[0;32mIn[18], line 1\u001b[0m\n\u001b[0;32m----> 1\u001b[0m \u001b[38;5;28;01mimport\u001b[39;00m \u001b[38;5;21;01mcircuits\u001b[39;00m\u001b[38;5;21;01m.\u001b[39;00m\u001b[38;5;21;01mqft\u001b[39;00m\n",
      "\u001b[0;31mModuleNotFoundError\u001b[0m: No module named 'circuits'"
     ]
    }
   ],
   "source": [
    "import circuits.qft"
   ]
  },
  {
   "cell_type": "code",
   "execution_count": 23,
   "metadata": {},
   "outputs": [],
   "source": [
    "def qft(n, arr):\n",
    "    circuit = Circuit()\n",
    "    \n",
    "    for i in range(len(arr)):\n",
    "        if(arr[i] == 1):\n",
    "            circuit.x(i)\n",
    "    \n",
    "    for i in range(0, n):\n",
    "        circuit.h(i)\n",
    "        for j in range(1, n - i):\n",
    "            circuit.cphaseshift(i+j,i,(2 * np.pi / math.pow(2,j)))\n",
    "\n",
    "    return circuit"
   ]
  },
  {
   "cell_type": "code",
   "execution_count": 85,
   "metadata": {},
   "outputs": [
    {
     "name": "stdout",
     "output_type": "stream",
     "text": [
      "T  : |0|     1     |      2      |     3     |4|\n",
      "                                                \n",
      "q0 : -H-PHASE(3.14)-PHASE(1.57)-----------------\n",
      "        |           |                           \n",
      "q1 : ---C-----------|-----------H-PHASE(3.14)---\n",
      "                    |             |             \n",
      "q2 : -X-------------C-------------C-----------H-\n",
      "\n",
      "T  : |0|     1     |      2      |     3     |4|\n",
      "T  : |0|     1     |      2      |     3     |4|\n",
      "                                                \n",
      "q0 : -H-PHASE(3.14)-PHASE(1.57)-----------------\n",
      "        |           |                           \n",
      "q1 : ---C-----------|-----------H-PHASE(3.14)---\n",
      "                    |             |             \n",
      "q2 : -X-------------C-------------C-----------H-\n",
      "\n",
      "T  : |0|     1     |      2      |     3     |4|\n"
     ]
    }
   ],
   "source": [
    "qft_circuit = qft(3, [0,0,1])\n",
    "qft_no_noise = qft(3,[0,0,1])\n",
    "\n",
    "print(qft_circuit)\n",
    "print(qft_no_noise)"
   ]
  },
  {
   "cell_type": "code",
   "execution_count": 100,
   "metadata": {},
   "outputs": [
    {
     "name": "stdout",
     "output_type": "stream",
     "text": [
      "Counter({'111': 140, '101': 134, '110': 131, '100': 124, '011': 122, '010': 121, '001': 117, '000': 111})\n"
     ]
    }
   ],
   "source": [
    "qft_circuit = nm.apply(qft_circuit)\n",
    "\n",
    "result_no_noise = device.run(qft_circuit, shots=1000).result()\n",
    "print(result_no_noise.measurement_counts)"
   ]
  },
  {
   "cell_type": "code",
   "execution_count": 87,
   "metadata": {},
   "outputs": [
    {
     "name": "stdout",
     "output_type": "stream",
     "text": [
      "Counter({'011': 131, '000': 129, '101': 128, '111': 125, '010': 124, '001': 124, '110': 124, '100': 115})\n"
     ]
    }
   ],
   "source": [
    "result_noise = device.run(qft_no_noise, shots=1000).result()\n",
    "print(result_noise.measurement_counts)"
   ]
  },
  {
   "cell_type": "code",
   "execution_count": null,
   "metadata": {},
   "outputs": [],
   "source": [
    "def conv_to_vector(measurement):\n",
    "\n",
    "    keys_sorted = sorted(measurement.keys())\n",
    "    values_sorted = [measurement[key] for key in keys_sorted]\n",
    "\n",
    "    # Convert to numpy vector\n",
    "    vector = np.array(values_sorted)\n",
    "\n",
    "    return vector\n",
    "\n",
    "\n",
    "def compare_results(noisy, real):\n",
    "    ans = 0\n",
    "    for key in noisy:\n",
    "        if key in real:\n",
    "            ans += noisy[key]*real[key]\n",
    "\n",
    "    vec_n = conv_to_vector(noisy)\n",
    "    vec_r = conv_to_vector(real)\n",
    "    \n",
    "    ans /= np.linalg.norm(vec_n)*np.linalg.norm(vec_r)\n",
    "    \n",
    "    return ans"
   ]
  }
 ],
 "metadata": {
  "kernelspec": {
   "display_name": "Python 3",
   "language": "python",
   "name": "python3"
  },
  "language_info": {
   "codemirror_mode": {
    "name": "ipython",
    "version": 3
   },
   "file_extension": ".py",
   "mimetype": "text/x-python",
   "name": "python",
   "nbconvert_exporter": "python",
   "pygments_lexer": "ipython3",
   "version": "3.11.1"
  }
 },
 "nbformat": 4,
 "nbformat_minor": 4
}
