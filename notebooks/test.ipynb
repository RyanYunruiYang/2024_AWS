{
 "cells": [
  {
   "cell_type": "code",
   "execution_count": 1,
   "metadata": {},
   "outputs": [],
   "source": [
    "from braket.circuits import Circuit\n",
    "bell = Circuit().h(0).cnot(0, 1)"
   ]
  },
  {
   "cell_type": "code",
   "execution_count": 7,
   "metadata": {},
   "outputs": [
    {
     "name": "stdout",
     "output_type": "stream",
     "text": [
      "T  : |      0      |1|2|     3     |\n",
      "                                    \n",
      "q0 : -StartVerbatim-H-C-EndVerbatim-\n",
      "      |               | |           \n",
      "q7 : -*************---X-***********-\n",
      "\n",
      "T  : |      0      |1|2|     3     |\n"
     ]
    }
   ],
   "source": [
    "comp_bell = Circuit().h(0).cnot(0, 7)\n",
    "circ = Circuit().add_verbatim_box(comp_bell)\n",
    "print(circ)"
   ]
  },
  {
   "cell_type": "code",
   "execution_count": 8,
   "metadata": {},
   "outputs": [
    {
     "name": "stdout",
     "output_type": "stream",
     "text": [
      "Device('name': Harmony, 'arn': arn:aws:braket:us-east-1::device/qpu/ionq/Harmony)\n"
     ]
    },
    {
     "ename": "AttributeError",
     "evalue": "'IonqProviderProperties' object has no attribute 'properties'",
     "output_type": "error",
     "traceback": [
      "\u001b[0;31m---------------------------------------------------------------------------\u001b[0m",
      "\u001b[0;31mAttributeError\u001b[0m                            Traceback (most recent call last)",
      "Cell \u001b[0;32mIn[8], line 7\u001b[0m\n\u001b[1;32m      3\u001b[0m harmony \u001b[38;5;241m=\u001b[39m AwsDevice(\u001b[38;5;124m\"\u001b[39m\u001b[38;5;124marn:aws:braket:us-east-1::device/qpu/ionq/Harmony\u001b[39m\u001b[38;5;124m\"\u001b[39m)\n\u001b[1;32m      5\u001b[0m \u001b[38;5;28mprint\u001b[39m(harmony)\n\u001b[0;32m----> 7\u001b[0m l_fid \u001b[38;5;241m=\u001b[39m \u001b[43mharmony\u001b[49m\u001b[38;5;241;43m.\u001b[39;49m\u001b[43mproperties\u001b[49m\u001b[38;5;241;43m.\u001b[39;49m\u001b[43mprovider\u001b[49m\u001b[38;5;241;43m.\u001b[39;49m\u001b[43mproperties\u001b[49m\n\u001b[1;32m      8\u001b[0m l_t2 \u001b[38;5;241m=\u001b[39m l_fid[\u001b[38;5;124m'\u001b[39m\u001b[38;5;124mtwo_qubit\u001b[39m\u001b[38;5;124m'\u001b[39m]\n\u001b[1;32m      9\u001b[0m \u001b[38;5;28mprint\u001b[39m(l_t2)\n",
      "\u001b[0;31mAttributeError\u001b[0m: 'IonqProviderProperties' object has no attribute 'properties'"
     ]
    }
   ],
   "source": [
    "from braket.aws import AwsDevice\n",
    "\n",
    "harmony = AwsDevice(\"arn:aws:braket:us-east-1::device/qpu/ionq/Harmony\")\n",
    "\n",
    "print(harmony)\n",
    "\n",
    "l_fid = harmony.properties.provider.properties\n",
    "l_t2 = l_fid['two_qubit']\n",
    "print(l_t2)"
   ]
  }
 ],
 "metadata": {
  "kernelspec": {
   "display_name": "iquhack",
   "language": "python",
   "name": "python3"
  },
  "language_info": {
   "codemirror_mode": {
    "name": "ipython",
    "version": 3
   },
   "file_extension": ".py",
   "mimetype": "text/x-python",
   "name": "python",
   "nbconvert_exporter": "python",
   "pygments_lexer": "ipython3",
   "version": "3.10.13"
  }
 },
 "nbformat": 4,
 "nbformat_minor": 2
}
