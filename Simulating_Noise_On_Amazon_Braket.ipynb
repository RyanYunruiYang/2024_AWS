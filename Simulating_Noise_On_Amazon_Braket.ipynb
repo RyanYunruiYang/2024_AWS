{
 "cells": [
  {
   "cell_type": "markdown",
   "metadata": {},
   "source": [
    "# Simulating noise on Amazon Braket"
   ]
  },
  {
   "cell_type": "code",
   "execution_count": 40,
   "metadata": {
    "ExecuteTime": {
     "end_time": "2023-08-29T21:52:57.387131Z",
     "start_time": "2023-08-29T21:52:56.735020Z"
    }
   },
   "outputs": [],
   "source": [
    "# Use Braket SDK Cost Tracking to estimate the cost to run this example\n",
    "from braket.tracking import Tracker\n",
    "t = Tracker().start()"
   ]
  },
  {
   "cell_type": "markdown",
   "metadata": {},
   "source": [
    "This notebook gives a detailed overview of noise simulations on Amazon Braket. Amazon Braket provides two noise simulators: a local noise simulator that you can use for free as part of the Braket SDK and an on-demand, high-performing noise simulator, DM1. Both simulators are based on the density matrix formalism. After this tutorial, you will be able to define noise channels, apply noise to new or existing circuits, and run those circuits on the Braket noise simulators. \n",
    "\n",
    "### Table of contents:\n",
    "* [Background](#Background)\n",
    "    * [Noise simulation based on the density matrix formalism](#density_matrix)\n",
    "    * [Quantum channel and Kraus representation](#quantum_channel)\n",
    "* [General imports](#imports)\n",
    "* [Quick start](#start)\n",
    "* [Defining noise channels](#noise_channels)\n",
    "    * [Pre-defined noise channels](#pre-defined)\n",
    "    * [Defining custom noise channels](#self-defined)\n",
    "* [Adding noise to a circuit](#apply_noise)\n",
    "    * [Build noisy circuits bottom-up](#apply_noise_directly)\n",
    "    * [Applying noise to existing circuits with global methods](#apply_noise_globally)\n",
    "        * [Applying gate noise to the circuit](#gate-noise)\n",
    "        * [Applying initialization noise to the circuit](#initialization-noise)\n",
    "        * [Applying readout noise to the circuit](#readout-noise)\n",
    "    * [Using both the direct and global methods to apply noise](#both)\n",
    "* [Running a noisy circuit](#run)"
   ]
  },
  {
   "cell_type": "markdown",
   "metadata": {},
   "source": [
    "## Background <a class=\"anchor\" id=\"Background\"></a>\n",
    "\n",
    "### Noise simulation based on the density matrix formalism <a class=\"anchor\" id=\"density_matrix\"></a>\n",
    "In an ideal case, a quantum state prepared by a noise-free circuit can be described by a state vector $|\\psi\\rangle$ -- we call it a 'pure state'. However, the presence of noise in realistic quantum devices will introduce classical uncertainty to the quantum state. For example, a bit flip error with 50% probability acting on a qubit flips the $|0\\rangle$ state into either $|0\\rangle$ or $|1\\rangle$ with a 50-50 chance. Note that this is different from an Hadamard-gate acting on $|0\\rangle$: The latter results in a coherent superposition of $|0\\rangle$ and $|1\\rangle$, whereas the former is a classical, so-called mixture of $|0\\rangle$ and $|1\\rangle$. The most general way of describing a quantum state in the presence of noise is through the so-called density matrix: $\\rho = \\sum_i p_i|\\psi_i\\rangle\\langle\\psi_i|$. It can be understood as a classical mixture of a series of pure states $|\\psi_i\\rangle$ (each of which could be highly entangled), where $p_i$ is the probability of the state being in $|\\psi_i\\rangle$. Because the $p_i$ are classical probabilities they have to sum up to 1: $\\sum_i p_i = 1$. The density matrix of a pure state is simply $\\rho = |\\psi\\rangle\\langle\\psi|$ and, in the bit-flip example from above, the density matrix would be $\\rho = 0.5|0\\rangle\\langle 0| + 0.5|1\\rangle\\langle 1|$. \n",
    "\n",
    "The density matrix formalism is a very useful way to describe a noisy system with probabilistic outcomes. It gives an exact description of a quantum system going through a quantum channel with noise. Besides, the expectation value of an observable $\\langle O\\rangle$ can be easily calculated by $\\rm{Tr}(O\\rho)$, where \"$\\rm{Tr}$\" is the trace operator. \n",
    "\n",
    "### Quantum channel and Kraus representation <a class=\"anchor\" id=\"quantum_channel\"></a>\n",
    "\n",
    "A [quantum channel](https://en.wikipedia.org/wiki/Quantum_channel) describes the time evolution of a quantum state which is expressed as a density matrix. For instance, to understand what a series of noisy gates does to the state of a quantum computer, you can apply a quantum channel corresponding to the different gate and noise operations. \n",
    "Mathematically speaking, a quantum channel is a completely positive and trace-preserving (CPTP) linear map acting on a density matrix. Completely positive means the channel maps positive operators into positive operators (even if the operator is applied to part of a larger system) to make sure the density matrix describes a proper quantum state after the map. Trace-preserving means the trace of the density matrix remains unchanged during the mapping process (this is so that after the map the classical probabilities $p_i$ still sum to 1). \n",
    "\n",
    "The so-called _Kraus representation_ is a commonly used representation for CPTP maps. [Kraus's theorem](https://en.wikipedia.org/wiki/Quantum_operation#Kraus_operators) states that any quantum operation acting on a quantum state $\\rho$ can be expressed as a map $\\varepsilon(\\rho) = \\sum_i K_i\\rho K_i^{\\dagger}$, and it satisfies: $\\sum_i K_i^{\\dagger}K_i = \\mathbb{1}$, where $\\mathbb{1}$ is the Identity operator.\n",
    "\n",
    "Let's get started and have a look how you can define and simulate noisy circuits on Amazon Braket."
   ]
  },
  {
   "cell_type": "markdown",
   "metadata": {},
   "source": [
    "## General imports <a class=\"anchor\" id=\"imports\"></a>"
   ]
  },
  {
   "cell_type": "markdown",
   "metadata": {},
   "source": [
    "Let's begin with the usual imports."
   ]
  },
  {
   "cell_type": "code",
   "execution_count": 99,
   "metadata": {
    "ExecuteTime": {
     "end_time": "2023-08-29T21:52:59.526319Z",
     "start_time": "2023-08-29T21:52:56.796594Z"
    }
   },
   "outputs": [],
   "source": [
    "from braket.aws import AwsDevice\n",
    "from braket.circuits import Circuit, gates, noises, observables\n",
    "from braket.devices import LocalSimulator\n",
    "from braket.parametric import FreeParameter\n",
    "import numpy as np\n",
    "from scipy.stats import unitary_group\n",
    "import math"
   ]
  },
  {
   "cell_type": "markdown",
   "metadata": {},
   "source": [
    "## Noise Simulator from AWS"
   ]
  },
  {
   "cell_type": "code",
   "execution_count": 44,
   "metadata": {
    "ExecuteTime": {
     "end_time": "2023-08-29T21:52:59.700559Z",
     "start_time": "2023-08-29T21:52:59.527368Z"
    }
   },
   "outputs": [
    {
     "name": "stdout",
     "output_type": "stream",
     "text": [
      "T  : |0|1|\n",
      "          \n",
      "q0 : -H-C-\n",
      "        | \n",
      "q1 : ---X-\n",
      "\n",
      "T  : |0|1|\n",
      "T  : |      0      |     1      |\n",
      "                                 \n",
      "q0 : -H-DEPO(0.002)-C-DEPO(0.07)-\n",
      "                    | |          \n",
      "q1 : ---------------X-DEPO(0.07)-\n",
      "\n",
      "T  : |      0      |     1      |\n",
      "measurement results: Counter({'00': 492, '11': 478, '10': 18, '01': 12})\n"
     ]
    }
   ],
   "source": [
    "from braket.circuits.noise_model import (\n",
    "    GateCriteria,\n",
    "    NoiseModel,\n",
    "    ObservableCriteria,\n",
    ")\n",
    "from braket.circuits import Circuit, Observable, Gate\n",
    "from braket.circuits.noises import (\n",
    "    BitFlip,\n",
    "    Depolarizing,\n",
    "    TwoQubitDepolarizing,\n",
    ")\n",
    "from braket.devices import LocalSimulator\n",
    "import numpy as np\n",
    "import math\n",
    "\n",
    "def noise_model():\n",
    "    rng = np.random.default_rng()\n",
    "    m = NoiseModel()\n",
    "    \n",
    "    two_q_depo_mu = 1 - 0.9311\n",
    "    two_q_depo_sigma = 0.005\n",
    "    bf_mu = 1 - 0.99752\n",
    "    bf_sigma = 0.0015\n",
    "    one_q_depo_mu = 1 - 0.9981\n",
    "    one_q_depo_sigma = 0.00017\n",
    "    for qi in range(11):\n",
    "        z_bf_prob = bf_mu + bf_sigma * rng.standard_normal()\n",
    "        z_bf_prob = 0.0 if z_bf_prob < 0.0 else z_bf_prob\n",
    "        \n",
    "        bf_prob = bf_mu + bf_sigma * rng.standard_normal()\n",
    "        bf_prob = 0.0 if bf_prob < 0.0 else bf_prob\n",
    "        \n",
    "        one_q_depo_prob = one_q_depo_mu + one_q_depo_sigma * rng.standard_normal()\n",
    "        one_q_depo_prob = 0.0 if one_q_depo_prob < 0.0 else one_q_depo_prob\n",
    "        \n",
    "        m.add_noise(BitFlip(z_bf_prob), ObservableCriteria(observables=Observable.Z, qubits=qi))\n",
    "        #m.add_noise(BitFlip(bf_prob), ObservableCriteria(qubits=qi))\n",
    "        \n",
    "        m.add_noise(Depolarizing(one_q_depo_prob), GateCriteria(qubits=qi))\n",
    "        for qj in range(11):\n",
    "            if not qj == qi:\n",
    "                two_q_depo_prob = two_q_depo_mu + two_q_depo_sigma * rng.standard_normal()\n",
    "                two_q_depo_prob = 0.0 if two_q_depo_prob < 0.0 else two_q_depo_prob\n",
    "                \n",
    "                m.add_noise(TwoQubitDepolarizing(two_q_depo_prob), GateCriteria(gates=[Gate.CNot, Gate.Swap, Gate.CPhaseShift], qubits=[qi, qj]))\n",
    "    return m\n",
    "\n",
    "# build my circuit here\n",
    "c = Circuit().h(0).cnot(0,1)\n",
    "# SOME GATES GET APPLIED\n",
    "\n",
    "# examine the noiseless circuit \n",
    "print(c)\n",
    "\n",
    "# apply the noise model to the circuit \n",
    "nm = noise_model()\n",
    "c = nm.apply(c)\n",
    "\n",
    "# examine the noisy circuit \n",
    "print(c)\n",
    "\n",
    "# run the simulation!\n",
    "device = LocalSimulator('braket_dm')\n",
    "result = device.run(c, shots=1000).result()\n",
    "measurement = result.measurement_counts\n",
    "print('measurement results:', measurement)\n",
    "\n",
    "# # now improve the mapping based on the results!\n",
    "\n",
    "# # build a simple circuit\n",
    "# circ = Circuit().h(0).cnot(0,1)\n",
    "\n",
    "# # define a noise channel\n",
    "# noise = noises.BitFlip(probability=0.5)\n",
    "\n",
    "# # add noise to every gate in the circuit\n",
    "# circ.apply_gate_noise(noise)\n",
    "\n",
    "# # select the local noise simulator\n",
    "# device = LocalSimulator('braket_dm')\n",
    "\n",
    "# # run the circuit on the local simulator\n",
    "# task = device.run(circ, shots = 1000)\n",
    "\n",
    "# # visualize the results\n",
    "# result = task.result()\n",
    "# measurement = result.measurement_counts\n",
    "# print('measurement results:', measurement)"
   ]
  },
  {
   "cell_type": "markdown",
   "metadata": {},
   "source": [
    "## Trying random circuits"
   ]
  },
  {
   "cell_type": "code",
   "execution_count": 75,
   "metadata": {},
   "outputs": [],
   "source": [
    "nm = noise_model()"
   ]
  },
  {
   "cell_type": "code",
   "execution_count": 81,
   "metadata": {},
   "outputs": [
    {
     "name": "stdout",
     "output_type": "stream",
     "text": [
      "[[0, 0.961, 0.955, 0.961, 0.957, 0.956, 0.958, 0.953, 0.947, 0.948, 0.95], [0, 0, 0.948, 0.941, 0.948, 0.944, 0.954, 0.954, 0.951, 0.938, 0.948], [0, 0, 0, 0.961, 0.93, 0.951, 0.952, 0.945, 0.954, 0.941, 0.943], [0, 0, 0, 0, 0.947, 0.946, 0.943, 0.946, 0.948, 0.957, 0.954], [0, 0, 0, 0, 0, 0.942, 0.949, 0.954, 0.968, 0.961, 0.948], [0, 0, 0, 0, 0, 0, 0.951, 0.959, 0.95, 0.959, 0.962], [0, 0, 0, 0, 0, 0, 0, 0.951, 0.959, 0.953, 0.956], [0, 0, 0, 0, 0, 0, 0, 0, 0.946, 0.953, 0.953], [0, 0, 0, 0, 0, 0, 0, 0, 0, 0.947, 0.946], [0, 0, 0, 0, 0, 0, 0, 0, 0, 0, 0.948], [0, 0, 0, 0, 0, 0, 0, 0, 0, 0, 0]]\n"
     ]
    }
   ],
   "source": [
    "cnot_fidelities = [[0 for j in range(11)] for i in range(11)]\n",
    "\n",
    "for i in range(0,10):\n",
    "    for j in range(i+1,11):\n",
    "        c = Circuit()\n",
    "        for k in range(0,11):\n",
    "            c.i(k)\n",
    "\n",
    "        # build my circuit here\n",
    "        c.h(i)\n",
    "        c.cnot(i,j)\n",
    "        # SOME GATES GET APPLIED\n",
    "\n",
    "        # examine the noiseless circuit \n",
    "        # print(c)\n",
    "\n",
    "        # apply the noise model to the circuit \n",
    "        \n",
    "        c = nm.apply(c)\n",
    "\n",
    "        # examine the noisy circuit \n",
    "        #print(c)\n",
    "\n",
    "        # run the simulation!\n",
    "        device = LocalSimulator('braket_dm')\n",
    "        result = device.run(c, shots=1000).result()\n",
    "        measurement = result.measurement_counts\n",
    "        \n",
    "        def getString(i,j):\n",
    "            base = '00000000000'\n",
    "            return base[0:i] + '1' + base[i+1:j]+'1'+base[j+1:]\n",
    "        \n",
    "        fidelity = (measurement['00000000000'] + measurement[getString(i,j)])/1000\n",
    "        cnot_fidelities[i][j] = fidelity\n",
    "        \n",
    "        #print('measurement results for ' + str(i) + ',' + str(j) + ':' + str(fidelity) + '  details: ')\n",
    "        \n",
    "for row in fidelities:\n",
    "    print(row)"
   ]
  },
  {
   "cell_type": "code",
   "execution_count": 82,
   "metadata": {},
   "outputs": [
    {
     "name": "stdout",
     "output_type": "stream",
     "text": [
      "[0, 0.961, 0.955, 0.961, 0.957, 0.956, 0.958, 0.953, 0.947, 0.948, 0.95]\n",
      "[0, 0, 0.948, 0.941, 0.948, 0.944, 0.954, 0.954, 0.951, 0.938, 0.948]\n",
      "[0, 0, 0, 0.961, 0.93, 0.951, 0.952, 0.945, 0.954, 0.941, 0.943]\n",
      "[0, 0, 0, 0, 0.947, 0.946, 0.943, 0.946, 0.948, 0.957, 0.954]\n",
      "[0, 0, 0, 0, 0, 0.942, 0.949, 0.954, 0.968, 0.961, 0.948]\n",
      "[0, 0, 0, 0, 0, 0, 0.951, 0.959, 0.95, 0.959, 0.962]\n",
      "[0, 0, 0, 0, 0, 0, 0, 0.951, 0.959, 0.953, 0.956]\n",
      "[0, 0, 0, 0, 0, 0, 0, 0, 0.946, 0.953, 0.953]\n",
      "[0, 0, 0, 0, 0, 0, 0, 0, 0, 0.947, 0.946]\n",
      "[0, 0, 0, 0, 0, 0, 0, 0, 0, 0, 0.948]\n",
      "[0, 0, 0, 0, 0, 0, 0, 0, 0, 0, 0]\n"
     ]
    }
   ],
   "source": [
    "for row in fidelities:\n",
    "    print(row)"
   ]
  },
  {
   "cell_type": "code",
   "execution_count": 86,
   "metadata": {},
   "outputs": [],
   "source": [
    "swap_fidelities = [[0 for j in range(11)] for i in range(11)]\n",
    "\n",
    "for i in range(0,10):\n",
    "    for j in range(i+1,11):\n",
    "        c = Circuit()\n",
    "        for k in range(0,11):\n",
    "            c.i(k)\n",
    "\n",
    "        # build my circuit here\n",
    "        c.h(i)\n",
    "        c.swap(i,j)\n",
    "        # SOME GATES GET APPLIED\n",
    "\n",
    "        # examine the noiseless circuit \n",
    "        # print(c)\n",
    "\n",
    "        # apply the noise model to the circuit \n",
    "        \n",
    "        c = nm.apply(c)\n",
    "\n",
    "        # examine the noisy circuit \n",
    "        #print(c)\n",
    "\n",
    "        # run the simulation!\n",
    "        device = LocalSimulator('braket_dm')\n",
    "        result = device.run(c, shots=1000).result()\n",
    "        measurement = result.measurement_counts\n",
    "        \n",
    "        def getString(i,j):\n",
    "            base = '00000000000'\n",
    "            return base[0:j]+'1'+base[j+1:]\n",
    "        \n",
    "        fidelity = (measurement['00000000000'] + measurement[getString(i,j)])/1000\n",
    "        swap_fidelities[i][j] = fidelity"
   ]
  },
  {
   "cell_type": "code",
   "execution_count": 87,
   "metadata": {},
   "outputs": [
    {
     "name": "stdout",
     "output_type": "stream",
     "text": [
      "[0, 0.958, 0.952, 0.956, 0.959, 0.955, 0.945, 0.961, 0.955, 0.962, 0.939]\n",
      "[0, 0, 0.948, 0.945, 0.943, 0.948, 0.947, 0.958, 0.947, 0.957, 0.942]\n",
      "[0, 0, 0, 0.957, 0.938, 0.946, 0.948, 0.943, 0.95, 0.957, 0.959]\n",
      "[0, 0, 0, 0, 0.954, 0.948, 0.954, 0.958, 0.947, 0.956, 0.956]\n",
      "[0, 0, 0, 0, 0, 0.943, 0.937, 0.938, 0.95, 0.945, 0.93]\n",
      "[0, 0, 0, 0, 0, 0, 0.949, 0.946, 0.946, 0.943, 0.951]\n",
      "[0, 0, 0, 0, 0, 0, 0, 0.942, 0.965, 0.957, 0.95]\n",
      "[0, 0, 0, 0, 0, 0, 0, 0, 0.941, 0.949, 0.961]\n",
      "[0, 0, 0, 0, 0, 0, 0, 0, 0, 0.95, 0.94]\n",
      "[0, 0, 0, 0, 0, 0, 0, 0, 0, 0, 0.945]\n",
      "[0, 0, 0, 0, 0, 0, 0, 0, 0, 0, 0]\n"
     ]
    }
   ],
   "source": [
    "for row in swap_fidelities:\n",
    "    print(row)"
   ]
  },
  {
   "cell_type": "code",
   "execution_count": 112,
   "metadata": {},
   "outputs": [],
   "source": [
    "def qft_circuit(n):\n",
    "    circuit = Circuit()\n",
    "    \n",
    "    for i in range(0, n):\n",
    "        circuit.h(i)\n",
    "        for j in range(1, n - i):\n",
    "            circuit.cphaseshift(i+j,i,(2 * np.pi / math.pow(2,j)))\n",
    "\n",
    "    return circuit\n",
    "    "
   ]
  },
  {
   "cell_type": "code",
   "execution_count": 114,
   "metadata": {},
   "outputs": [
    {
     "name": "stdout",
     "output_type": "stream",
     "text": [
      "T  : |0|     1     |      2      |           3           |      4      |     5     |6|\n",
      "                                                                                      \n",
      "q0 : -H-PHASE(3.14)-PHASE(1.57)---PHASE(0.79)-----------------------------------------\n",
      "        |           |             |                                                   \n",
      "q1 : ---C-----------|-----------H-|-----------PHASE(3.14)-PHASE(1.57)-----------------\n",
      "                    |             |           |           |                           \n",
      "q2 : ---------------C-------------|-----------C-----------|-----------H-PHASE(3.14)---\n",
      "                                  |                       |             |             \n",
      "q3 : -----------------------------C-----------------------C-------------C-----------H-\n",
      "\n",
      "T  : |0|     1     |      2      |           3           |      4      |     5     |6|\n"
     ]
    }
   ],
   "source": [
    "qft = qft_circuit(4)\n",
    "\n",
    "print(qft)\n"
   ]
  }
 ],
 "metadata": {
  "kernelspec": {
   "display_name": "Python 3",
   "language": "python",
   "name": "python3"
  },
  "language_info": {
   "codemirror_mode": {
    "name": "ipython",
    "version": 3
   },
   "file_extension": ".py",
   "mimetype": "text/x-python",
   "name": "python",
   "nbconvert_exporter": "python",
   "pygments_lexer": "ipython3",
   "version": "3.11.1"
  }
 },
 "nbformat": 4,
 "nbformat_minor": 4
}
