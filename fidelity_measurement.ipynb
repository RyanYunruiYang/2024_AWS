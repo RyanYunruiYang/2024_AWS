{
 "cells": [
  {
   "cell_type": "markdown",
   "metadata": {},
   "source": [
    "Library Imports"
   ]
  },
  {
   "cell_type": "code",
   "execution_count": 147,
   "metadata": {},
   "outputs": [],
   "source": [
    "from braket.circuits.noise_model import (\n",
    "    GateCriteria,\n",
    "    NoiseModel,\n",
    "    ObservableCriteria,\n",
    ")\n",
    "from braket.circuits import Circuit, Observable, Gate\n",
    "from braket.circuits.noises import (\n",
    "    BitFlip,\n",
    "    Depolarizing,\n",
    "    TwoQubitDepolarizing,\n",
    ")\n",
    "from braket.devices import LocalSimulator\n",
    "import numpy as np\n",
    "import math"
   ]
  },
  {
   "cell_type": "markdown",
   "metadata": {},
   "source": [
    "Noise Model for Testing"
   ]
  },
  {
   "cell_type": "code",
   "execution_count": 148,
   "metadata": {},
   "outputs": [],
   "source": [
    "def noise_model():\n",
    "    rng = np.random.default_rng()\n",
    "    m = NoiseModel()\n",
    "    \n",
    "    two_q_depo_mu = 1 - 0.9311\n",
    "    two_q_depo_sigma = 0.005\n",
    "    bf_mu = 1 - 0.99752\n",
    "    bf_sigma = 0.0015\n",
    "    one_q_depo_mu = 1 - 0.9981\n",
    "    one_q_depo_sigma = 0.00017\n",
    "    for qi in range(11):\n",
    "        z_bf_prob = bf_mu + bf_sigma * rng.standard_normal()\n",
    "        z_bf_prob = 0.0 if z_bf_prob < 0.0 else z_bf_prob\n",
    "        \n",
    "        bf_prob = bf_mu + bf_sigma * rng.standard_normal()\n",
    "        bf_prob = 0.0 if bf_prob < 0.0 else bf_prob\n",
    "        \n",
    "        one_q_depo_prob = one_q_depo_mu + one_q_depo_sigma * rng.standard_normal()\n",
    "        one_q_depo_prob = 0.0 if one_q_depo_prob < 0.0 else one_q_depo_prob\n",
    "        \n",
    "        m.add_noise(BitFlip(z_bf_prob), ObservableCriteria(observables=Observable.Z, qubits=qi))\n",
    "        #m.add_noise(BitFlip(bf_prob), ObservableCriteria(qubits=qi))\n",
    "        \n",
    "        m.add_noise(Depolarizing(one_q_depo_prob), GateCriteria(qubits=qi))\n",
    "        for qj in range(11):\n",
    "            if not qj == qi:\n",
    "                two_q_depo_prob = two_q_depo_mu + two_q_depo_sigma * rng.standard_normal()\n",
    "                two_q_depo_prob = 0.0 if two_q_depo_prob < 0.0 else two_q_depo_prob\n",
    "                \n",
    "                m.add_noise(TwoQubitDepolarizing(two_q_depo_prob), GateCriteria(gates=[Gate.CNot, Gate.Swap, Gate.CPhaseShift], qubits=[qi, qj]))\n",
    "    return m"
   ]
  },
  {
   "cell_type": "markdown",
   "metadata": {},
   "source": [
    "Global Parameters"
   ]
  },
  {
   "cell_type": "code",
   "execution_count": 149,
   "metadata": {},
   "outputs": [],
   "source": [
    "# select the local noise simulator\n",
    "device = LocalSimulator('braket_dm')\n",
    "noise = noise_model()\n",
    "n = 11"
   ]
  },
  {
   "cell_type": "markdown",
   "metadata": {},
   "source": [
    "Single Qubit Fidelity Measurement"
   ]
  },
  {
   "cell_type": "code",
   "execution_count": 150,
   "metadata": {},
   "outputs": [],
   "source": [
    "def create_hadamard_circuit(gate_num = 2):\n",
    "    c = Circuit()\n",
    "    for qubit in range(n):\n",
    "        for _ in range(gate_num):\n",
    "            c.h(qubit)\n",
    "    c = noise.apply(c)\n",
    "    return c\n",
    "\n",
    "def calc_single_qubit_fidelity(had_cnt = 2):\n",
    "    c = create_hadamard_circuit(had_cnt)\n",
    "    shotnum = 10000\n",
    "    task = device.run(c, shots = shotnum)\n",
    "    result = task.result()\n",
    "    measurement = result.measurement_counts\n",
    "    measurement = {int(state[::-1], 2) : cnt for state, cnt in measurement.items()}\n",
    "    return [(sum(cnt for state, cnt in measurement.items() if not (state&(2**qubit)))/shotnum)**0.5 for qubit in range(n)]"
   ]
  },
  {
   "cell_type": "code",
   "execution_count": 151,
   "metadata": {},
   "outputs": [
    {
     "data": {
      "text/plain": [
       "[0.9988993943335835,\n",
       " 0.9987992791347018,\n",
       " 0.9986490875177326,\n",
       " 0.9985489472229191,\n",
       " 0.9984988733093293,\n",
       " 0.9986490875177326,\n",
       " 0.9990995946350895,\n",
       " 0.9987992791347018,\n",
       " 0.9992997548283498,\n",
       " 0.9989494481704267,\n",
       " 0.9983987179478948]"
      ]
     },
     "execution_count": 151,
     "metadata": {},
     "output_type": "execute_result"
    }
   ],
   "source": [
    "calc_single_qubit_fidelity()"
   ]
  },
  {
   "cell_type": "markdown",
   "metadata": {},
   "source": [
    "Two Qubit Fidelity Measurement"
   ]
  },
  {
   "cell_type": "code",
   "execution_count": 152,
   "metadata": {},
   "outputs": [
    {
     "name": "stdout",
     "output_type": "stream",
     "text": [
      "[[0, 0], [1, 10], [2, 9], [3, 8], [4, 7], [5, 6]]\n",
      "[[6, 6], [7, 5], [8, 4], [9, 3], [10, 2], [0, 1]]\n",
      "[[1, 1], [2, 0], [3, 10], [4, 9], [5, 8], [6, 7]]\n",
      "[[7, 7], [8, 6], [9, 5], [10, 4], [0, 3], [1, 2]]\n",
      "[[2, 2], [3, 1], [4, 0], [5, 10], [6, 9], [7, 8]]\n",
      "[[8, 8], [9, 7], [10, 6], [0, 5], [1, 4], [2, 3]]\n",
      "[[3, 3], [4, 2], [5, 1], [6, 0], [7, 10], [8, 9]]\n",
      "[[9, 9], [10, 8], [0, 7], [1, 6], [2, 5], [3, 4]]\n",
      "[[4, 4], [5, 3], [6, 2], [7, 1], [8, 0], [9, 10]]\n",
      "[[10, 10], [0, 9], [1, 8], [2, 7], [3, 6], [4, 5]]\n",
      "[[5, 5], [6, 4], [7, 3], [8, 2], [9, 1], [10, 0]]\n",
      "[[0, 0], [10, 1], [9, 2], [8, 3], [7, 4], [6, 5]]\n",
      "[[6, 6], [5, 7], [4, 8], [3, 9], [2, 10], [1, 0]]\n",
      "[[1, 1], [0, 2], [10, 3], [9, 4], [8, 5], [7, 6]]\n",
      "[[7, 7], [6, 8], [5, 9], [4, 10], [3, 0], [2, 1]]\n",
      "[[2, 2], [1, 3], [0, 4], [10, 5], [9, 6], [8, 7]]\n",
      "[[8, 8], [7, 9], [6, 10], [5, 0], [4, 1], [3, 2]]\n",
      "[[3, 3], [2, 4], [1, 5], [0, 6], [10, 7], [9, 8]]\n",
      "[[9, 9], [8, 10], [7, 0], [6, 1], [5, 2], [4, 3]]\n",
      "[[4, 4], [3, 5], [2, 6], [1, 7], [0, 8], [10, 9]]\n",
      "[[10, 10], [9, 0], [8, 1], [7, 2], [6, 3], [5, 4]]\n",
      "[[5, 5], [4, 6], [3, 7], [2, 8], [1, 9], [0, 10]]\n"
     ]
    }
   ],
   "source": [
    "# Round Robin Creation\n",
    "\n",
    "rownum = n-1+(n&1)\n",
    "colnum = (n+1)//2\n",
    "\n",
    "table = [[] for _ in range(rownum)]\n",
    "\n",
    "cur = 0\n",
    "\n",
    "for row in range(rownum):\n",
    "    for col in range(colnum):\n",
    "        table[row].append([cur])\n",
    "        cur += 1\n",
    "        cur %= n+1-(n&1)\n",
    "\n",
    "for row in range(rownum):\n",
    "    place_row = (row-1)%rownum\n",
    "    for col in range(colnum-1, -1, -1):\n",
    "        place_col = colnum-1-col\n",
    "        table[place_row][place_col].append(table[row][col][0])\n",
    "    if not n&1:\n",
    "        table[place_row][place_col][1] = n-1\n",
    "\n",
    "for row in range(rownum):\n",
    "    cur = []\n",
    "    for col in range(colnum):\n",
    "        cur.append(table[row][col][::-1])\n",
    "    table.append(cur)\n",
    "\n",
    "print (*table, sep='\\n')\n"
   ]
  },
  {
   "cell_type": "code",
   "execution_count": 153,
   "metadata": {},
   "outputs": [
    {
     "name": "stdout",
     "output_type": "stream",
     "text": [
      "[[0.     0.9598 0.9628 0.9598 0.9616 0.9602 0.9585 0.9601 0.9682 0.9623\n",
      "  0.9614]\n",
      " [0.9626 0.     0.9657 0.9598 0.9564 0.9648 0.9603 0.9608 0.9598 0.9635\n",
      "  0.9661]\n",
      " [0.9632 0.9604 0.     0.9609 0.968  0.9632 0.9573 0.9684 0.9598 0.9629\n",
      "  0.9646]\n",
      " [0.96   0.9627 0.9641 0.     0.9634 0.9627 0.9696 0.968  0.9627 0.9637\n",
      "  0.9651]\n",
      " [0.9664 0.9652 0.9663 0.9642 0.     0.9611 0.9648 0.9678 0.9652 0.9651\n",
      "  0.9601]\n",
      " [0.9617 0.9596 0.9648 0.9617 0.9595 0.     0.9641 0.9638 0.9619 0.9588\n",
      "  0.9581]\n",
      " [0.9635 0.9668 0.9696 0.9616 0.9667 0.9613 0.     0.9622 0.9608 0.9603\n",
      "  0.9675]\n",
      " [0.963  0.9626 0.9659 0.9648 0.9636 0.966  0.9669 0.     0.9694 0.9596\n",
      "  0.959 ]\n",
      " [0.961  0.9594 0.9655 0.9684 0.9676 0.964  0.9622 0.9635 0.     0.9596\n",
      "  0.9616]\n",
      " [0.9635 0.9637 0.9597 0.9605 0.9583 0.959  0.968  0.9602 0.9592 0.\n",
      "  0.9636]\n",
      " [0.9645 0.9661 0.9611 0.9633 0.9713 0.9671 0.9676 0.9612 0.9615 0.9629\n",
      "  0.    ]]\n"
     ]
    }
   ],
   "source": [
    "two_q_fidelity = np.zeros((n,n))\n",
    "for round in table:\n",
    "    c = Circuit()\n",
    "    for a,b in round:\n",
    "        if(a == b):\n",
    "            c.i(a)\n",
    "            continue\n",
    "        c.h(a)\n",
    "        c.cnot(a,b)\n",
    "    c = noise.apply(c)\n",
    "\n",
    "    shotnum = 10000\n",
    "    task = device.run(c, shots = shotnum)\n",
    "    result = task.result()\n",
    "    measurement = result.measurement_counts\n",
    "    measurement = {int(state[::-1], 2) : cnt for state, cnt in measurement.items()}\n",
    "    \n",
    "    for a,b in round:\n",
    "        if(a == b): continue\n",
    "        cur_cnt = 0\n",
    "        for state, cnt in measurement.items():\n",
    "            if state&(1<<a) and state&(1<<b):\n",
    "                cur_cnt += cnt\n",
    "            if (not state&(1<<a)) and (not state&(1<<b)):\n",
    "                cur_cnt += cnt\n",
    "        two_q_fidelity[a][b] = cur_cnt/shotnum\n",
    "\n",
    "print(two_q_fidelity, sep=\"\\n\")\n",
    "        "
   ]
  }
 ],
 "metadata": {
  "kernelspec": {
   "display_name": "Python 3",
   "language": "python",
   "name": "python3"
  },
  "language_info": {
   "codemirror_mode": {
    "name": "ipython",
    "version": 3
   },
   "file_extension": ".py",
   "mimetype": "text/x-python",
   "name": "python",
   "nbconvert_exporter": "python",
   "pygments_lexer": "ipython3",
   "version": "3.10.12"
  }
 },
 "nbformat": 4,
 "nbformat_minor": 2
}
